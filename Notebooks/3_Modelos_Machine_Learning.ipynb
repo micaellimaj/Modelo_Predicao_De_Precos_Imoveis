{
 "cells": [
  {
   "cell_type": "markdown",
   "metadata": {},
   "source": [
    "* Bibliotecas:"
   ]
  },
  {
   "cell_type": "code",
   "execution_count": 208,
   "metadata": {},
   "outputs": [],
   "source": [
    "import pandas as pd\n",
    "import seaborn as sns\n",
    "import matplotlib.pyplot as plt\n",
    "import numpy as np\n",
    "import plotly.express as px\n",
    "from sklearn.pipeline import Pipeline\n",
    "from sklearn.impute import SimpleImputer, KNNImputer\n",
    "from sklearn.preprocessing import OneHotEncoder, StandardScaler, OrdinalEncoder\n",
    "from sklearn.compose import ColumnTransformer\n",
    "from sklearn.dummy import DummyRegressor\n",
    "from sklearn.linear_model import LinearRegression, Ridge\n",
    "from sklearn.neighbors import KNeighborsRegressor\n",
    "from sklearn.tree import DecisionTreeRegressor\n",
    "from sklearn.ensemble import RandomForestRegressor, GradientBoostingRegressor\n",
    "from sklearn.model_selection import ShuffleSplit\n",
    "from sklearn.model_selection import cross_val_score, cross_val_predict\n",
    "from sklearn.model_selection import train_test_split,  ShuffleSplit, KFold, cross_validate\n",
    "from sklearn.svm import SVR"
   ]
  },
  {
   "cell_type": "markdown",
   "metadata": {},
   "source": [
    "* Leitura dos dados:"
   ]
  },
  {
   "cell_type": "code",
   "execution_count": 232,
   "metadata": {},
   "outputs": [],
   "source": [
    "dados = pd.read_csv('teste_atualizado.csv')"
   ]
  },
  {
   "cell_type": "code",
   "execution_count": 233,
   "metadata": {},
   "outputs": [],
   "source": [
    "dados_dicionario = pd.read_csv('dicionario.csv')"
   ]
  },
  {
   "cell_type": "code",
   "execution_count": 234,
   "metadata": {},
   "outputs": [],
   "source": [
    "dados = dados.sample(frac=0.5, random_state=42)  # Pegar 50% dos dados"
   ]
  },
  {
   "cell_type": "code",
   "execution_count": 235,
   "metadata": {},
   "outputs": [],
   "source": [
    "dados = dados.drop(columns=['ultima_review','latitude','longitude','host_id','id','bairro'])\n"
   ]
  },
  {
   "cell_type": "code",
   "execution_count": 236,
   "metadata": {},
   "outputs": [],
   "source": [
    "for col in ['nome', 'host_name']:\n",
    "    freq = dados[col].value_counts(normalize=True)\n",
    "    dados[col] = dados[col].apply(lambda x: x if freq[x] > 0.01 else \"Outros\")"
   ]
  },
  {
   "cell_type": "code",
   "execution_count": 237,
   "metadata": {},
   "outputs": [],
   "source": [
    "valores_para_remover = ['ultima_review','latitude','longitude','host_id','id','bairro']\n",
    "dados_dicionario = dados_dicionario[~dados_dicionario['variavel'].isin(valores_para_remover)]"
   ]
  },
  {
   "cell_type": "code",
   "execution_count": 238,
   "metadata": {},
   "outputs": [
    {
     "data": {
      "text/html": [
       "<div>\n",
       "<style scoped>\n",
       "    .dataframe tbody tr th:only-of-type {\n",
       "        vertical-align: middle;\n",
       "    }\n",
       "\n",
       "    .dataframe tbody tr th {\n",
       "        vertical-align: top;\n",
       "    }\n",
       "\n",
       "    .dataframe thead th {\n",
       "        text-align: right;\n",
       "    }\n",
       "</style>\n",
       "<table border=\"1\" class=\"dataframe\">\n",
       "  <thead>\n",
       "    <tr style=\"text-align: right;\">\n",
       "      <th></th>\n",
       "      <th>nome</th>\n",
       "      <th>host_name</th>\n",
       "      <th>bairro_group</th>\n",
       "      <th>room_type</th>\n",
       "      <th>price</th>\n",
       "      <th>minimo_noites</th>\n",
       "      <th>numero_de_reviews</th>\n",
       "      <th>reviews_por_mes</th>\n",
       "      <th>calculado_host_listings_count</th>\n",
       "      <th>disponibilidade_365</th>\n",
       "    </tr>\n",
       "  </thead>\n",
       "  <tbody>\n",
       "    <tr>\n",
       "      <th>879</th>\n",
       "      <td>Outros</td>\n",
       "      <td>Outros</td>\n",
       "      <td>Manhattan</td>\n",
       "      <td>Private room</td>\n",
       "      <td>110</td>\n",
       "      <td>3</td>\n",
       "      <td>47</td>\n",
       "      <td>0.57</td>\n",
       "      <td>1</td>\n",
       "      <td>248</td>\n",
       "    </tr>\n",
       "    <tr>\n",
       "      <th>47429</th>\n",
       "      <td>Outros</td>\n",
       "      <td>Outros</td>\n",
       "      <td>Brooklyn</td>\n",
       "      <td>Private room</td>\n",
       "      <td>40</td>\n",
       "      <td>1</td>\n",
       "      <td>1</td>\n",
       "      <td>1.00</td>\n",
       "      <td>2</td>\n",
       "      <td>151</td>\n",
       "    </tr>\n",
       "    <tr>\n",
       "      <th>15394</th>\n",
       "      <td>Outros</td>\n",
       "      <td>Outros</td>\n",
       "      <td>Brooklyn</td>\n",
       "      <td>Private room</td>\n",
       "      <td>57</td>\n",
       "      <td>3</td>\n",
       "      <td>33</td>\n",
       "      <td>0.85</td>\n",
       "      <td>3</td>\n",
       "      <td>345</td>\n",
       "    </tr>\n",
       "    <tr>\n",
       "      <th>24100</th>\n",
       "      <td>Outros</td>\n",
       "      <td>Outros</td>\n",
       "      <td>Brooklyn</td>\n",
       "      <td>Entire home/apt</td>\n",
       "      <td>375</td>\n",
       "      <td>2</td>\n",
       "      <td>14</td>\n",
       "      <td>0.60</td>\n",
       "      <td>1</td>\n",
       "      <td>75</td>\n",
       "    </tr>\n",
       "    <tr>\n",
       "      <th>16332</th>\n",
       "      <td>Outros</td>\n",
       "      <td>Outros</td>\n",
       "      <td>Queens</td>\n",
       "      <td>Private room</td>\n",
       "      <td>195</td>\n",
       "      <td>4</td>\n",
       "      <td>0</td>\n",
       "      <td>0.72</td>\n",
       "      <td>1</td>\n",
       "      <td>0</td>\n",
       "    </tr>\n",
       "    <tr>\n",
       "      <th>5966</th>\n",
       "      <td>Outros</td>\n",
       "      <td>Outros</td>\n",
       "      <td>Manhattan</td>\n",
       "      <td>Private room</td>\n",
       "      <td>120</td>\n",
       "      <td>14</td>\n",
       "      <td>14</td>\n",
       "      <td>0.24</td>\n",
       "      <td>2</td>\n",
       "      <td>0</td>\n",
       "    </tr>\n",
       "    <tr>\n",
       "      <th>34363</th>\n",
       "      <td>Outros</td>\n",
       "      <td>Outros</td>\n",
       "      <td>Brooklyn</td>\n",
       "      <td>Entire home/apt</td>\n",
       "      <td>89</td>\n",
       "      <td>2</td>\n",
       "      <td>14</td>\n",
       "      <td>1.48</td>\n",
       "      <td>2</td>\n",
       "      <td>180</td>\n",
       "    </tr>\n",
       "    <tr>\n",
       "      <th>41763</th>\n",
       "      <td>Outros</td>\n",
       "      <td>Outros</td>\n",
       "      <td>Queens</td>\n",
       "      <td>Entire home/apt</td>\n",
       "      <td>60</td>\n",
       "      <td>30</td>\n",
       "      <td>0</td>\n",
       "      <td>0.72</td>\n",
       "      <td>1</td>\n",
       "      <td>121</td>\n",
       "    </tr>\n",
       "    <tr>\n",
       "      <th>11118</th>\n",
       "      <td>Outros</td>\n",
       "      <td>Outros</td>\n",
       "      <td>Brooklyn</td>\n",
       "      <td>Entire home/apt</td>\n",
       "      <td>120</td>\n",
       "      <td>30</td>\n",
       "      <td>143</td>\n",
       "      <td>3.17</td>\n",
       "      <td>1</td>\n",
       "      <td>221</td>\n",
       "    </tr>\n",
       "    <tr>\n",
       "      <th>22878</th>\n",
       "      <td>Outros</td>\n",
       "      <td>Outros</td>\n",
       "      <td>Queens</td>\n",
       "      <td>Entire home/apt</td>\n",
       "      <td>120</td>\n",
       "      <td>3</td>\n",
       "      <td>3</td>\n",
       "      <td>0.12</td>\n",
       "      <td>1</td>\n",
       "      <td>0</td>\n",
       "    </tr>\n",
       "    <tr>\n",
       "      <th>42214</th>\n",
       "      <td>Outros</td>\n",
       "      <td>Outros</td>\n",
       "      <td>Brooklyn</td>\n",
       "      <td>Shared room</td>\n",
       "      <td>28</td>\n",
       "      <td>1</td>\n",
       "      <td>5</td>\n",
       "      <td>1.50</td>\n",
       "      <td>17</td>\n",
       "      <td>89</td>\n",
       "    </tr>\n",
       "    <tr>\n",
       "      <th>31729</th>\n",
       "      <td>Outros</td>\n",
       "      <td>Outros</td>\n",
       "      <td>Brooklyn</td>\n",
       "      <td>Entire home/apt</td>\n",
       "      <td>89</td>\n",
       "      <td>365</td>\n",
       "      <td>1</td>\n",
       "      <td>0.09</td>\n",
       "      <td>2</td>\n",
       "      <td>0</td>\n",
       "    </tr>\n",
       "    <tr>\n",
       "      <th>5990</th>\n",
       "      <td>Outros</td>\n",
       "      <td>Outros</td>\n",
       "      <td>Manhattan</td>\n",
       "      <td>Entire home/apt</td>\n",
       "      <td>180</td>\n",
       "      <td>2</td>\n",
       "      <td>178</td>\n",
       "      <td>3.11</td>\n",
       "      <td>1</td>\n",
       "      <td>227</td>\n",
       "    </tr>\n",
       "    <tr>\n",
       "      <th>13153</th>\n",
       "      <td>Outros</td>\n",
       "      <td>Outros</td>\n",
       "      <td>Manhattan</td>\n",
       "      <td>Entire home/apt</td>\n",
       "      <td>169</td>\n",
       "      <td>30</td>\n",
       "      <td>2</td>\n",
       "      <td>0.06</td>\n",
       "      <td>121</td>\n",
       "      <td>364</td>\n",
       "    </tr>\n",
       "    <tr>\n",
       "      <th>28159</th>\n",
       "      <td>Outros</td>\n",
       "      <td>Outros</td>\n",
       "      <td>Queens</td>\n",
       "      <td>Entire home/apt</td>\n",
       "      <td>51</td>\n",
       "      <td>1</td>\n",
       "      <td>4</td>\n",
       "      <td>0.21</td>\n",
       "      <td>1</td>\n",
       "      <td>0</td>\n",
       "    </tr>\n",
       "    <tr>\n",
       "      <th>19825</th>\n",
       "      <td>Outros</td>\n",
       "      <td>Outros</td>\n",
       "      <td>Brooklyn</td>\n",
       "      <td>Private room</td>\n",
       "      <td>38</td>\n",
       "      <td>2</td>\n",
       "      <td>1</td>\n",
       "      <td>0.03</td>\n",
       "      <td>1</td>\n",
       "      <td>0</td>\n",
       "    </tr>\n",
       "    <tr>\n",
       "      <th>24470</th>\n",
       "      <td>Outros</td>\n",
       "      <td>Outros</td>\n",
       "      <td>Brooklyn</td>\n",
       "      <td>Private room</td>\n",
       "      <td>115</td>\n",
       "      <td>1</td>\n",
       "      <td>72</td>\n",
       "      <td>2.98</td>\n",
       "      <td>1</td>\n",
       "      <td>0</td>\n",
       "    </tr>\n",
       "    <tr>\n",
       "      <th>36518</th>\n",
       "      <td>Outros</td>\n",
       "      <td>Outros</td>\n",
       "      <td>Queens</td>\n",
       "      <td>Private room</td>\n",
       "      <td>70</td>\n",
       "      <td>1</td>\n",
       "      <td>2</td>\n",
       "      <td>2.00</td>\n",
       "      <td>1</td>\n",
       "      <td>342</td>\n",
       "    </tr>\n",
       "    <tr>\n",
       "      <th>36266</th>\n",
       "      <td>Outros</td>\n",
       "      <td>Outros</td>\n",
       "      <td>Manhattan</td>\n",
       "      <td>Entire home/apt</td>\n",
       "      <td>314</td>\n",
       "      <td>30</td>\n",
       "      <td>0</td>\n",
       "      <td>0.72</td>\n",
       "      <td>232</td>\n",
       "      <td>330</td>\n",
       "    </tr>\n",
       "    <tr>\n",
       "      <th>3290</th>\n",
       "      <td>Outros</td>\n",
       "      <td>Outros</td>\n",
       "      <td>Manhattan</td>\n",
       "      <td>Entire home/apt</td>\n",
       "      <td>149</td>\n",
       "      <td>1</td>\n",
       "      <td>1</td>\n",
       "      <td>0.03</td>\n",
       "      <td>1</td>\n",
       "      <td>0</td>\n",
       "    </tr>\n",
       "  </tbody>\n",
       "</table>\n",
       "</div>"
      ],
      "text/plain": [
       "         nome host_name bairro_group        room_type  price  minimo_noites  \\\n",
       "879    Outros    Outros    Manhattan     Private room    110              3   \n",
       "47429  Outros    Outros     Brooklyn     Private room     40              1   \n",
       "15394  Outros    Outros     Brooklyn     Private room     57              3   \n",
       "24100  Outros    Outros     Brooklyn  Entire home/apt    375              2   \n",
       "16332  Outros    Outros       Queens     Private room    195              4   \n",
       "5966   Outros    Outros    Manhattan     Private room    120             14   \n",
       "34363  Outros    Outros     Brooklyn  Entire home/apt     89              2   \n",
       "41763  Outros    Outros       Queens  Entire home/apt     60             30   \n",
       "11118  Outros    Outros     Brooklyn  Entire home/apt    120             30   \n",
       "22878  Outros    Outros       Queens  Entire home/apt    120              3   \n",
       "42214  Outros    Outros     Brooklyn      Shared room     28              1   \n",
       "31729  Outros    Outros     Brooklyn  Entire home/apt     89            365   \n",
       "5990   Outros    Outros    Manhattan  Entire home/apt    180              2   \n",
       "13153  Outros    Outros    Manhattan  Entire home/apt    169             30   \n",
       "28159  Outros    Outros       Queens  Entire home/apt     51              1   \n",
       "19825  Outros    Outros     Brooklyn     Private room     38              2   \n",
       "24470  Outros    Outros     Brooklyn     Private room    115              1   \n",
       "36518  Outros    Outros       Queens     Private room     70              1   \n",
       "36266  Outros    Outros    Manhattan  Entire home/apt    314             30   \n",
       "3290   Outros    Outros    Manhattan  Entire home/apt    149              1   \n",
       "\n",
       "       numero_de_reviews  reviews_por_mes  calculado_host_listings_count  \\\n",
       "879                   47             0.57                              1   \n",
       "47429                  1             1.00                              2   \n",
       "15394                 33             0.85                              3   \n",
       "24100                 14             0.60                              1   \n",
       "16332                  0             0.72                              1   \n",
       "5966                  14             0.24                              2   \n",
       "34363                 14             1.48                              2   \n",
       "41763                  0             0.72                              1   \n",
       "11118                143             3.17                              1   \n",
       "22878                  3             0.12                              1   \n",
       "42214                  5             1.50                             17   \n",
       "31729                  1             0.09                              2   \n",
       "5990                 178             3.11                              1   \n",
       "13153                  2             0.06                            121   \n",
       "28159                  4             0.21                              1   \n",
       "19825                  1             0.03                              1   \n",
       "24470                 72             2.98                              1   \n",
       "36518                  2             2.00                              1   \n",
       "36266                  0             0.72                            232   \n",
       "3290                   1             0.03                              1   \n",
       "\n",
       "       disponibilidade_365  \n",
       "879                    248  \n",
       "47429                  151  \n",
       "15394                  345  \n",
       "24100                   75  \n",
       "16332                    0  \n",
       "5966                     0  \n",
       "34363                  180  \n",
       "41763                  121  \n",
       "11118                  221  \n",
       "22878                    0  \n",
       "42214                   89  \n",
       "31729                    0  \n",
       "5990                   227  \n",
       "13153                  364  \n",
       "28159                    0  \n",
       "19825                    0  \n",
       "24470                    0  \n",
       "36518                  342  \n",
       "36266                  330  \n",
       "3290                     0  "
      ]
     },
     "execution_count": 238,
     "metadata": {},
     "output_type": "execute_result"
    }
   ],
   "source": [
    "dados.head(20)"
   ]
  },
  {
   "cell_type": "code",
   "execution_count": 239,
   "metadata": {},
   "outputs": [
    {
     "name": "stdout",
     "output_type": "stream",
     "text": [
      "<class 'pandas.core.frame.DataFrame'>\n",
      "Index: 24447 entries, 879 to 5214\n",
      "Data columns (total 10 columns):\n",
      " #   Column                         Non-Null Count  Dtype  \n",
      "---  ------                         --------------  -----  \n",
      " 0   nome                           24447 non-null  object \n",
      " 1   host_name                      24447 non-null  object \n",
      " 2   bairro_group                   24447 non-null  object \n",
      " 3   room_type                      24447 non-null  object \n",
      " 4   price                          24447 non-null  int64  \n",
      " 5   minimo_noites                  24447 non-null  int64  \n",
      " 6   numero_de_reviews              24447 non-null  int64  \n",
      " 7   reviews_por_mes                24447 non-null  float64\n",
      " 8   calculado_host_listings_count  24447 non-null  int64  \n",
      " 9   disponibilidade_365            24447 non-null  int64  \n",
      "dtypes: float64(1), int64(5), object(4)\n",
      "memory usage: 2.1+ MB\n"
     ]
    }
   ],
   "source": [
    "dados.info(20)"
   ]
  },
  {
   "cell_type": "code",
   "execution_count": 240,
   "metadata": {},
   "outputs": [
    {
     "data": {
      "text/html": [
       "<div>\n",
       "<style scoped>\n",
       "    .dataframe tbody tr th:only-of-type {\n",
       "        vertical-align: middle;\n",
       "    }\n",
       "\n",
       "    .dataframe tbody tr th {\n",
       "        vertical-align: top;\n",
       "    }\n",
       "\n",
       "    .dataframe thead th {\n",
       "        text-align: right;\n",
       "    }\n",
       "</style>\n",
       "<table border=\"1\" class=\"dataframe\">\n",
       "  <thead>\n",
       "    <tr style=\"text-align: right;\">\n",
       "      <th></th>\n",
       "      <th>variavel</th>\n",
       "      <th>descricao</th>\n",
       "      <th>tipo</th>\n",
       "      <th>subtipo</th>\n",
       "    </tr>\n",
       "  </thead>\n",
       "  <tbody>\n",
       "    <tr>\n",
       "      <th>1</th>\n",
       "      <td>nome</td>\n",
       "      <td>Título do anúncio</td>\n",
       "      <td>qualitativa</td>\n",
       "      <td>nominal</td>\n",
       "    </tr>\n",
       "    <tr>\n",
       "      <th>3</th>\n",
       "      <td>host_name</td>\n",
       "      <td>nome do anfitrião</td>\n",
       "      <td>qualitativa</td>\n",
       "      <td>nominal</td>\n",
       "    </tr>\n",
       "    <tr>\n",
       "      <th>4</th>\n",
       "      <td>bairro_group</td>\n",
       "      <td>grupo ou região do bairro onde o imóvel está l...</td>\n",
       "      <td>qualitativa</td>\n",
       "      <td>nominal</td>\n",
       "    </tr>\n",
       "    <tr>\n",
       "      <th>8</th>\n",
       "      <td>room_type</td>\n",
       "      <td>Tipo de acomodação</td>\n",
       "      <td>qualitativa</td>\n",
       "      <td>nominal</td>\n",
       "    </tr>\n",
       "    <tr>\n",
       "      <th>9</th>\n",
       "      <td>price</td>\n",
       "      <td>Preço por noite em dólares</td>\n",
       "      <td>quantitativa</td>\n",
       "      <td>contínua</td>\n",
       "    </tr>\n",
       "    <tr>\n",
       "      <th>10</th>\n",
       "      <td>minimo_noites</td>\n",
       "      <td>Número mínimo de noites exigido para reserva</td>\n",
       "      <td>quantitativa</td>\n",
       "      <td>discreta</td>\n",
       "    </tr>\n",
       "    <tr>\n",
       "      <th>11</th>\n",
       "      <td>numero_de_reviews</td>\n",
       "      <td>Número total de avaliações do anúncio</td>\n",
       "      <td>quantitativa</td>\n",
       "      <td>discreta</td>\n",
       "    </tr>\n",
       "    <tr>\n",
       "      <th>13</th>\n",
       "      <td>reviews_por_mes</td>\n",
       "      <td>Média de avaliações recebidas por mês</td>\n",
       "      <td>quantitativa</td>\n",
       "      <td>contínua</td>\n",
       "    </tr>\n",
       "    <tr>\n",
       "      <th>14</th>\n",
       "      <td>calculado_host_listings_count</td>\n",
       "      <td>quantidade de anúncios ativos do anfitrião</td>\n",
       "      <td>quantitativa</td>\n",
       "      <td>discreta</td>\n",
       "    </tr>\n",
       "    <tr>\n",
       "      <th>15</th>\n",
       "      <td>disponibilidade_365</td>\n",
       "      <td>Número de dias disponíveis para reserva no ano</td>\n",
       "      <td>quantitativa</td>\n",
       "      <td>discreta</td>\n",
       "    </tr>\n",
       "  </tbody>\n",
       "</table>\n",
       "</div>"
      ],
      "text/plain": [
       "                         variavel  \\\n",
       "1                            nome   \n",
       "3                       host_name   \n",
       "4                    bairro_group   \n",
       "8                       room_type   \n",
       "9                           price   \n",
       "10                  minimo_noites   \n",
       "11              numero_de_reviews   \n",
       "13                reviews_por_mes   \n",
       "14  calculado_host_listings_count   \n",
       "15            disponibilidade_365   \n",
       "\n",
       "                                            descricao          tipo   subtipo  \n",
       "1                                   Título do anúncio   qualitativa   nominal  \n",
       "3                                   nome do anfitrião   qualitativa   nominal  \n",
       "4   grupo ou região do bairro onde o imóvel está l...   qualitativa   nominal  \n",
       "8                                  Tipo de acomodação   qualitativa   nominal  \n",
       "9                          Preço por noite em dólares  quantitativa  contínua  \n",
       "10       Número mínimo de noites exigido para reserva  quantitativa  discreta  \n",
       "11              Número total de avaliações do anúncio  quantitativa  discreta  \n",
       "13              Média de avaliações recebidas por mês  quantitativa  contínua  \n",
       "14         quantidade de anúncios ativos do anfitrião  quantitativa  discreta  \n",
       "15     Número de dias disponíveis para reserva no ano  quantitativa  discreta  "
      ]
     },
     "execution_count": 240,
     "metadata": {},
     "output_type": "execute_result"
    }
   ],
   "source": [
    "dados_dicionario.head(20)"
   ]
  },
  {
   "cell_type": "markdown",
   "metadata": {},
   "source": [
    "* Estruturação das variáveis:"
   ]
  },
  {
   "cell_type": "markdown",
   "metadata": {},
   "source": [
    "ordinal_variables = (\n",
    "    dados_dicionario.query(\"subtipo == 'ordinal' and variavel != @target_variable\").variavel.to_list()\n",
    ")\n",
    "\n",
    "print(\"Variáveis Ordinais:\", ordinal_variables)\n",
    "\n",
    "\n",
    "ordinal_preprocessor = Pipeline(steps=[\n",
    "    (\"missing\", SimpleImputer(strategy='most_frequent')),\n",
    "    (\"encoding\", OrdinalEncoder()),\n",
    "])"
   ]
  },
  {
   "cell_type": "code",
   "execution_count": 241,
   "metadata": {},
   "outputs": [],
   "source": [
    "target_variable = 'price'\n",
    "\n",
    "useless_variables = (\n",
    "    dados_dicionario.query(\"tipo == 'inútil'\").variavel.to_list()\n",
    ")\n",
    "\n",
    "nominal_variables = (\n",
    "    dados_dicionario.query(\"subtipo == 'nominal' and variavel != @target_variable\").variavel.to_list()\n",
    ")\n",
    "\n",
    "continuous_variables = (\n",
    "    dados_dicionario.query(\"subtipo == 'contínua' and variavel != @target_variable\").variavel.to_list()\n",
    ")\n",
    "\n",
    "discrete_variables = (\n",
    "    dados_dicionario.query(\"subtipo == 'discreta' and variavel != @target_variable\").variavel.to_list()\n",
    ")"
   ]
  },
  {
   "cell_type": "code",
   "execution_count": 242,
   "metadata": {},
   "outputs": [
    {
     "name": "stdout",
     "output_type": "stream",
     "text": [
      "Variáveis Nominais: ['nome', 'host_name', 'bairro_group', 'room_type']\n",
      "Variáveis Contínuas: ['reviews_por_mes']\n",
      "Variáveis Discretas: ['minimo_noites', 'numero_de_reviews', 'calculado_host_listings_count', 'disponibilidade_365']\n"
     ]
    }
   ],
   "source": [
    "print(\"Variáveis Nominais:\", nominal_variables)\n",
    "print(\"Variáveis Contínuas:\", continuous_variables)\n",
    "print(\"Variáveis Discretas:\", discrete_variables)\n"
   ]
  },
  {
   "cell_type": "markdown",
   "metadata": {},
   "source": [
    "* Separando X (Variáveis Explicativas) e Y(Variável-alvo)"
   ]
  },
  {
   "cell_type": "code",
   "execution_count": 243,
   "metadata": {},
   "outputs": [],
   "source": [
    "X = dados.drop(columns=[target_variable] + useless_variables)\n",
    "y = dados[target_variable]"
   ]
  },
  {
   "cell_type": "code",
   "execution_count": 244,
   "metadata": {},
   "outputs": [
    {
     "name": "stdout",
     "output_type": "stream",
     "text": [
      "\n",
      "X (features):\n",
      "          nome host_name bairro_group        room_type  minimo_noites  \\\n",
      "879    Outros    Outros    Manhattan     Private room              3   \n",
      "47429  Outros    Outros     Brooklyn     Private room              1   \n",
      "15394  Outros    Outros     Brooklyn     Private room              3   \n",
      "24100  Outros    Outros     Brooklyn  Entire home/apt              2   \n",
      "16332  Outros    Outros       Queens     Private room              4   \n",
      "...       ...       ...          ...              ...            ...   \n",
      "5512   Outros    Outros    Manhattan  Entire home/apt              3   \n",
      "5156   Outros    Outros    Manhattan  Entire home/apt              2   \n",
      "38161  Outros    Outros     Brooklyn     Private room              3   \n",
      "48120  Outros    Outros    Manhattan  Entire home/apt              1   \n",
      "5214   Outros    Outros     Brooklyn  Entire home/apt              7   \n",
      "\n",
      "       numero_de_reviews  reviews_por_mes  calculado_host_listings_count  \\\n",
      "879                   47             0.57                              1   \n",
      "47429                  1             1.00                              2   \n",
      "15394                 33             0.85                              3   \n",
      "24100                 14             0.60                              1   \n",
      "16332                  0             0.72                              1   \n",
      "...                  ...              ...                            ...   \n",
      "5512                   8             0.14                              3   \n",
      "5156                 179             2.99                              1   \n",
      "38161                 10             4.55                              1   \n",
      "48120                  1             1.00                              1   \n",
      "5214                   5             0.09                              1   \n",
      "\n",
      "       disponibilidade_365  \n",
      "879                    248  \n",
      "47429                  151  \n",
      "15394                  345  \n",
      "24100                   75  \n",
      "16332                    0  \n",
      "...                    ...  \n",
      "5512                   303  \n",
      "5156                   179  \n",
      "38161                   77  \n",
      "48120                  307  \n",
      "5214                     0  \n",
      "\n",
      "[24447 rows x 9 columns]\n"
     ]
    }
   ],
   "source": [
    "print(\"\\nX (features):\\n\", X)"
   ]
  },
  {
   "cell_type": "code",
   "execution_count": 245,
   "metadata": {},
   "outputs": [
    {
     "name": "stdout",
     "output_type": "stream",
     "text": [
      "\n",
      "y (target):\n",
      " 879      110\n",
      "47429     40\n",
      "15394     57\n",
      "24100    375\n",
      "16332    195\n",
      "        ... \n",
      "5512     226\n",
      "5156     129\n",
      "38161     90\n",
      "48120    175\n",
      "5214     200\n",
      "Name: price, Length: 24447, dtype: int64\n"
     ]
    }
   ],
   "source": [
    "print(\"\\ny (target):\\n\", y)"
   ]
  },
  {
   "cell_type": "markdown",
   "metadata": {},
   "source": [
    "* Pipeline de Pré-Processamento:"
   ]
  },
  {
   "cell_type": "code",
   "execution_count": 246,
   "metadata": {},
   "outputs": [],
   "source": [
    "nominal_preprocessor = Pipeline(steps=[\n",
    "    (\"missing\", SimpleImputer(strategy='most_frequent')),\n",
    "    (\"encoding\", OneHotEncoder(sparse_output=True, handle_unknown='ignore')),\n",
    "])\n",
    "\n",
    "continuous_preprocessor = Pipeline(steps=[\n",
    "    (\"missing\", SimpleImputer(strategy='mean')),\n",
    "    (\"normalization\", StandardScaler()),\n",
    "])\n",
    "\n",
    "discrete_preprocessor = Pipeline(steps=[\n",
    "    (\"missing\", KNNImputer()),\n",
    "    (\"normalization\", StandardScaler()),\n",
    "])\n"
   ]
  },
  {
   "cell_type": "markdown",
   "metadata": {},
   "source": [
    "* Aplicando o Pipeline:"
   ]
  },
  {
   "cell_type": "code",
   "execution_count": 247,
   "metadata": {},
   "outputs": [],
   "source": [
    "nominal_features = ['nome', 'host_name', 'bairro_group', 'room_type']\n",
    "continuous_features = ['reviews_por_mes']\n",
    "discrete_features = ['minimo_noites', 'numero_de_reviews', 'calculado_host_listings_count', 'disponibilidade_365']"
   ]
  },
  {
   "cell_type": "markdown",
   "metadata": {},
   "source": []
  },
  {
   "cell_type": "code",
   "execution_count": 248,
   "metadata": {},
   "outputs": [],
   "source": [
    "preprocessor = ColumnTransformer(\n",
    "    transformers=[\n",
    "        ('nominal', nominal_preprocessor, nominal_features),\n",
    "        ('continuous', continuous_preprocessor, continuous_features),\n",
    "        ('discrete', discrete_preprocessor, discrete_features),\n",
    "    ], sparse_threshold=1.0\n",
    ")"
   ]
  },
  {
   "cell_type": "markdown",
   "metadata": {},
   "source": [
    "* Aplicando Preprocessor:"
   ]
  },
  {
   "cell_type": "code",
   "execution_count": 249,
   "metadata": {},
   "outputs": [],
   "source": [
    "X_preprocessed = preprocessor.fit_transform(X)"
   ]
  },
  {
   "cell_type": "code",
   "execution_count": 250,
   "metadata": {},
   "outputs": [
    {
     "name": "stdout",
     "output_type": "stream",
     "text": [
      "Dados pré-processados:\n",
      "<Compressed Sparse Row sparse matrix of dtype 'float64'\n",
      "\twith 220023 stored elements and shape (24447, 15)>\n",
      "  Coords\tValues\n",
      "  (0, 0)\t1.0\n",
      "  (0, 1)\t1.0\n",
      "  (0, 4)\t1.0\n",
      "  (0, 8)\t1.0\n",
      "  (0, 10)\t-0.44090909078971907\n",
      "  (0, 11)\t-0.20196365936988625\n",
      "  (0, 12)\t0.5290908677766379\n",
      "  (0, 13)\t-0.18791249140538938\n",
      "  (0, 14)\t1.0228838500950435\n",
      "  (1, 0)\t1.0\n",
      "  (1, 1)\t1.0\n",
      "  (1, 3)\t1.0\n",
      "  (1, 8)\t1.0\n",
      "  (1, 10)\t-0.15777994017854818\n",
      "  (1, 11)\t-0.30291967913444945\n",
      "  (1, 12)\t-0.49536979599046427\n",
      "  (1, 13)\t-0.15793502605651955\n",
      "  (1, 14)\t0.28675879027106943\n",
      "  (2, 0)\t1.0\n",
      "  (2, 1)\t1.0\n",
      "  (2, 3)\t1.0\n",
      "  (2, 8)\t1.0\n",
      "  (2, 10)\t-0.2565459229498869\n",
      "  (2, 11)\t-0.20196365936988625\n",
      "  (2, 12)\t0.2172984918475199\n",
      "  :\t:\n",
      "  (24444, 3)\t1.0\n",
      "  (24444, 8)\t1.0\n",
      "  (24444, 10)\t2.179681652076467\n",
      "  (24444, 11)\t-0.20196365936988625\n",
      "  (24444, 12)\t-0.29493184003603123\n",
      "  (24444, 13)\t-0.18791249140538938\n",
      "  (24444, 14)\t-0.27482115227505505\n",
      "  (24445, 0)\t1.0\n",
      "  (24445, 1)\t1.0\n",
      "  (24445, 4)\t1.0\n",
      "  (24445, 7)\t1.0\n",
      "  (24445, 10)\t-0.15777994017854818\n",
      "  (24445, 11)\t-0.30291967913444945\n",
      "  (24445, 12)\t-0.49536979599046427\n",
      "  (24445, 13)\t-0.18791249140538938\n",
      "  (24445, 14)\t1.47063002050344\n",
      "  (24446, 0)\t1.0\n",
      "  (24446, 1)\t1.0\n",
      "  (24446, 3)\t1.0\n",
      "  (24446, 7)\t1.0\n",
      "  (24446, 10)\t-0.7569602356580027\n",
      "  (24446, 11)\t-5.161984075987764e-05\n",
      "  (24446, 12)\t-0.40628626001071627\n",
      "  (24446, 13)\t-0.18791249140538938\n",
      "  (24446, 14)\t-0.8591678492487251\n"
     ]
    }
   ],
   "source": [
    "print(\"Dados pré-processados:\")\n",
    "print(X_preprocessed)"
   ]
  },
  {
   "cell_type": "markdown",
   "metadata": {},
   "source": [
    "## Comparação de Modelos de Regressão"
   ]
  },
  {
   "cell_type": "code",
   "execution_count": 61,
   "metadata": {},
   "outputs": [],
   "source": [
    "#odelos = [DecisionTreeRegressor(random_state=42), LinearRegression(), KNeighborsRegressor(n_neighbors=5), RandomForestRegressor(random_state=42), GradientBoostingRegressor(random_state=42)] / ,'explained_variance','max_error'"
   ]
  },
  {
   "cell_type": "code",
   "execution_count": null,
   "metadata": {},
   "outputs": [],
   "source": []
  },
  {
   "cell_type": "code",
   "execution_count": 251,
   "metadata": {},
   "outputs": [],
   "source": [
    "modelos =  [DummyRegressor(strategy='mean'), LinearRegression(), KNeighborsRegressor(n_neighbors=5)]"
   ]
  },
  {
   "cell_type": "code",
   "execution_count": 252,
   "metadata": {},
   "outputs": [],
   "source": [
    "metricas = ['neg_mean_absolute_error','neg_mean_squared_error','neg_mean_absolute_percentage_error','r2']"
   ]
  },
  {
   "cell_type": "code",
   "execution_count": 253,
   "metadata": {},
   "outputs": [],
   "source": [
    "monte_carlo = ShuffleSplit(n_splits=10, test_size=.2, random_state=42)"
   ]
  },
  {
   "cell_type": "code",
   "execution_count": 254,
   "metadata": {},
   "outputs": [
    {
     "name": "stdout",
     "output_type": "stream",
     "text": [
      "rodando para o modelo: DummyRegressor\n",
      "rodando para o modelo: LinearRegression\n",
      "rodando para o modelo: KNeighborsRegressor\n"
     ]
    }
   ],
   "source": [
    "results_total = None\n",
    "for model in modelos:\n",
    "    model_name = model.__class__.__name__\n",
    "    print(f\"rodando para o modelo: {model_name}\")\n",
    "    approach = Pipeline(steps=[\n",
    "        ('preprocessor', preprocessor),\n",
    "        ('model', model),\n",
    "    ])\n",
    "\n",
    "    scores = cross_validate(\n",
    "        approach, X, y,\n",
    "        scoring=metricas, \n",
    "        cv=monte_carlo\n",
    "    )\n",
    "    results_model = pd.DataFrame(scores)\n",
    "    results_model['model'] = model_name\n",
    "    if results_total is None:\n",
    "        results_total = results_model\n",
    "    else:\n",
    "        results_total = pd.concat([results_total, results_model])"
   ]
  },
  {
   "cell_type": "code",
   "execution_count": 255,
   "metadata": {},
   "outputs": [
    {
     "data": {
      "text/html": [
       "<div>\n",
       "<style scoped>\n",
       "    .dataframe tbody tr th:only-of-type {\n",
       "        vertical-align: middle;\n",
       "    }\n",
       "\n",
       "    .dataframe tbody tr th {\n",
       "        vertical-align: top;\n",
       "    }\n",
       "\n",
       "    .dataframe thead th {\n",
       "        text-align: right;\n",
       "    }\n",
       "</style>\n",
       "<table border=\"1\" class=\"dataframe\">\n",
       "  <thead>\n",
       "    <tr style=\"text-align: right;\">\n",
       "      <th></th>\n",
       "      <th>model</th>\n",
       "      <th>DummyRegressor</th>\n",
       "      <th>KNeighborsRegressor</th>\n",
       "      <th>LinearRegression</th>\n",
       "    </tr>\n",
       "  </thead>\n",
       "  <tbody>\n",
       "    <tr>\n",
       "      <th rowspan=\"2\" valign=\"top\">fit_time</th>\n",
       "      <th>mean</th>\n",
       "      <td>3.273678e-02</td>\n",
       "      <td>3.677142e-02</td>\n",
       "      <td>4.875648e-02</td>\n",
       "    </tr>\n",
       "    <tr>\n",
       "      <th>std</th>\n",
       "      <td>7.225425e-03</td>\n",
       "      <td>4.862314e-03</td>\n",
       "      <td>7.046683e-03</td>\n",
       "    </tr>\n",
       "    <tr>\n",
       "      <th rowspan=\"2\" valign=\"top\">score_time</th>\n",
       "      <th>mean</th>\n",
       "      <td>9.790468e-03</td>\n",
       "      <td>2.932786e+00</td>\n",
       "      <td>1.091447e-02</td>\n",
       "    </tr>\n",
       "    <tr>\n",
       "      <th>std</th>\n",
       "      <td>5.676882e-03</td>\n",
       "      <td>2.194470e-01</td>\n",
       "      <td>6.198709e-03</td>\n",
       "    </tr>\n",
       "    <tr>\n",
       "      <th rowspan=\"2\" valign=\"top\">test_neg_mean_absolute_error</th>\n",
       "      <th>mean</th>\n",
       "      <td>-9.343058e+01</td>\n",
       "      <td>-7.740004e+01</td>\n",
       "      <td>-7.489065e+01</td>\n",
       "    </tr>\n",
       "    <tr>\n",
       "      <th>std</th>\n",
       "      <td>2.874645e+00</td>\n",
       "      <td>3.531553e+00</td>\n",
       "      <td>3.033343e+00</td>\n",
       "    </tr>\n",
       "    <tr>\n",
       "      <th rowspan=\"2\" valign=\"top\">test_neg_mean_squared_error</th>\n",
       "      <th>mean</th>\n",
       "      <td>-6.400150e+04</td>\n",
       "      <td>-6.153328e+04</td>\n",
       "      <td>-5.881708e+04</td>\n",
       "    </tr>\n",
       "    <tr>\n",
       "      <th>std</th>\n",
       "      <td>2.254130e+04</td>\n",
       "      <td>2.119800e+04</td>\n",
       "      <td>2.235338e+04</td>\n",
       "    </tr>\n",
       "    <tr>\n",
       "      <th rowspan=\"2\" valign=\"top\">test_neg_mean_absolute_percentage_error</th>\n",
       "      <th>mean</th>\n",
       "      <td>-7.021470e+13</td>\n",
       "      <td>-4.369136e+13</td>\n",
       "      <td>-3.725787e+13</td>\n",
       "    </tr>\n",
       "    <tr>\n",
       "      <th>std</th>\n",
       "      <td>9.947367e+13</td>\n",
       "      <td>1.023247e+14</td>\n",
       "      <td>6.983836e+13</td>\n",
       "    </tr>\n",
       "    <tr>\n",
       "      <th rowspan=\"2\" valign=\"top\">test_r2</th>\n",
       "      <th>mean</th>\n",
       "      <td>-3.477875e-04</td>\n",
       "      <td>3.178561e-02</td>\n",
       "      <td>8.943874e-02</td>\n",
       "    </tr>\n",
       "    <tr>\n",
       "      <th>std</th>\n",
       "      <td>3.220057e-04</td>\n",
       "      <td>8.313344e-02</td>\n",
       "      <td>3.071850e-02</td>\n",
       "    </tr>\n",
       "  </tbody>\n",
       "</table>\n",
       "</div>"
      ],
      "text/plain": [
       "model                                         DummyRegressor  \\\n",
       "fit_time                                mean    3.273678e-02   \n",
       "                                        std     7.225425e-03   \n",
       "score_time                              mean    9.790468e-03   \n",
       "                                        std     5.676882e-03   \n",
       "test_neg_mean_absolute_error            mean   -9.343058e+01   \n",
       "                                        std     2.874645e+00   \n",
       "test_neg_mean_squared_error             mean   -6.400150e+04   \n",
       "                                        std     2.254130e+04   \n",
       "test_neg_mean_absolute_percentage_error mean   -7.021470e+13   \n",
       "                                        std     9.947367e+13   \n",
       "test_r2                                 mean   -3.477875e-04   \n",
       "                                        std     3.220057e-04   \n",
       "\n",
       "model                                         KNeighborsRegressor  \\\n",
       "fit_time                                mean         3.677142e-02   \n",
       "                                        std          4.862314e-03   \n",
       "score_time                              mean         2.932786e+00   \n",
       "                                        std          2.194470e-01   \n",
       "test_neg_mean_absolute_error            mean        -7.740004e+01   \n",
       "                                        std          3.531553e+00   \n",
       "test_neg_mean_squared_error             mean        -6.153328e+04   \n",
       "                                        std          2.119800e+04   \n",
       "test_neg_mean_absolute_percentage_error mean        -4.369136e+13   \n",
       "                                        std          1.023247e+14   \n",
       "test_r2                                 mean         3.178561e-02   \n",
       "                                        std          8.313344e-02   \n",
       "\n",
       "model                                         LinearRegression  \n",
       "fit_time                                mean      4.875648e-02  \n",
       "                                        std       7.046683e-03  \n",
       "score_time                              mean      1.091447e-02  \n",
       "                                        std       6.198709e-03  \n",
       "test_neg_mean_absolute_error            mean     -7.489065e+01  \n",
       "                                        std       3.033343e+00  \n",
       "test_neg_mean_squared_error             mean     -5.881708e+04  \n",
       "                                        std       2.235338e+04  \n",
       "test_neg_mean_absolute_percentage_error mean     -3.725787e+13  \n",
       "                                        std       6.983836e+13  \n",
       "test_r2                                 mean      8.943874e-02  \n",
       "                                        std       3.071850e-02  "
      ]
     },
     "execution_count": 255,
     "metadata": {},
     "output_type": "execute_result"
    }
   ],
   "source": [
    "results_total.groupby('model').agg(['mean', 'std']).T"
   ]
  },
  {
   "cell_type": "markdown",
   "metadata": {},
   "source": [
    "* Visualizações Gráficas:"
   ]
  },
  {
   "cell_type": "code",
   "execution_count": 256,
   "metadata": {},
   "outputs": [],
   "source": [
    "results_pivot = results_total.pivot_table(index='model', aggfunc=['mean', 'std'])\n",
    "results_pivot.columns = ['_'.join(col).strip() for col in results_pivot.columns]\n",
    "results_pivot = results_pivot.reset_index()"
   ]
  },
  {
   "cell_type": "markdown",
   "metadata": {},
   "source": [
    "* Boxplot dos Tempos de Treinamento e Previsão"
   ]
  },
  {
   "cell_type": "code",
   "execution_count": 190,
   "metadata": {},
   "outputs": [
    {
     "name": "stderr",
     "output_type": "stream",
     "text": [
      "C:\\Users\\micae\\AppData\\Local\\Temp\\ipykernel_14760\\3118623084.py:5: FutureWarning: \n",
      "\n",
      "Passing `palette` without assigning `hue` is deprecated and will be removed in v0.14.0. Assign the `x` variable to `hue` and set `legend=False` for the same effect.\n",
      "\n",
      "  sns.boxplot(data=results_total, x='model', y='fit_time', palette='Purples')\n",
      "C:\\Users\\micae\\AppData\\Local\\Temp\\ipykernel_14760\\3118623084.py:13: FutureWarning: \n",
      "\n",
      "Passing `palette` without assigning `hue` is deprecated and will be removed in v0.14.0. Assign the `x` variable to `hue` and set `legend=False` for the same effect.\n",
      "\n",
      "  sns.boxplot(data=results_total, x='model', y='score_time', palette='Purples')\n"
     ]
    },
    {
     "data": {
      "image/png": "[encoded data removed]",
      "text/plain": [
       "<Figure size 1200x600 with 2 Axes>"
      ]
     },
     "metadata": {},
     "output_type": "display_data"
    }
   ],
   "source": [
    "plt.figure(figsize=(12, 6))\n",
    "\n",
    "# Tempo de treinamento (fit_time)\n",
    "plt.subplot(1, 2, 1)\n",
    "sns.boxplot(data=results_total, x='model', y='fit_time', palette='Purples')\n",
    "plt.title('Média por Tempo de Treinamento (fit_time)')\n",
    "plt.ylabel('Tempo (segundos)')\n",
    "plt.xlabel('Modelo')\n",
    "plt.xticks(rotation=45)\n",
    "\n",
    "# Tempo de previsão (score_time)\n",
    "plt.subplot(1, 2, 2)\n",
    "sns.boxplot(data=results_total, x='model', y='score_time', palette='Purples')\n",
    "plt.title('Média por Tempo de Previsão (score_time)')\n",
    "plt.ylabel('Tempo (segundos)')\n",
    "plt.xlabel('Modelo')\n",
    "plt.xticks(rotation=45)\n",
    "\n",
    "plt.tight_layout()\n",
    "plt.show()"
   ]
  },
  {
   "cell_type": "code",
   "execution_count": 191,
   "metadata": {},
   "outputs": [
    {
     "name": "stderr",
     "output_type": "stream",
     "text": [
      "C:\\Users\\micae\\AppData\\Local\\Temp\\ipykernel_14760\\1879813264.py:7: FutureWarning: \n",
      "\n",
      "Passing `palette` without assigning `hue` is deprecated and will be removed in v0.14.0. Assign the `x` variable to `hue` and set `legend=False` for the same effect.\n",
      "\n",
      "  sns.barplot(data=std_results, x='model', y='fit_time', palette='Purples')\n",
      "C:\\Users\\micae\\AppData\\Local\\Temp\\ipykernel_14760\\1879813264.py:15: FutureWarning: \n",
      "\n",
      "Passing `palette` without assigning `hue` is deprecated and will be removed in v0.14.0. Assign the `x` variable to `hue` and set `legend=False` for the same effect.\n",
      "\n",
      "  sns.barplot(data=std_results, x='model', y='score_time', palette='Purples')\n"
     ]
    },
    {
     "data": {
      "image/png": "[encoded data removed]",
      "text/plain": [
       "<Figure size 1200x600 with 2 Axes>"
      ]
     },
     "metadata": {},
     "output_type": "display_data"
    }
   ],
   "source": [
    "std_results = results_total.groupby('model').std().reset_index()\n",
    "\n",
    "plt.figure(figsize=(12, 6))\n",
    "\n",
    "# Tempo de treinamento (fit_time) - desvio padrão\n",
    "plt.subplot(1, 2, 1)\n",
    "sns.barplot(data=std_results, x='model', y='fit_time', palette='Purples')\n",
    "plt.title('Desvio Padrão do Tempo de Treinamento (fit_time)')\n",
    "plt.ylabel('Tempo (segundos)')\n",
    "plt.xlabel('Modelo')\n",
    "plt.xticks(rotation=45)\n",
    "\n",
    "# Tempo de previsão (score_time) - desvio padrão\n",
    "plt.subplot(1, 2, 2)\n",
    "sns.barplot(data=std_results, x='model', y='score_time', palette='Purples')\n",
    "plt.title('Desvio Padrão do Tempo de Previsão (score_time)')\n",
    "plt.ylabel('Tempo (segundos)')\n",
    "plt.xlabel('Modelo')\n",
    "plt.xticks(rotation=45)\n",
    "\n",
    "plt.tight_layout()\n",
    "plt.show()"
   ]
  },
  {
   "cell_type": "markdown",
   "metadata": {},
   "source": [
    "* Gráficos Comparativos para Métricas"
   ]
  },
  {
   "cell_type": "markdown",
   "metadata": {},
   "source": [
    "## Predição do Modelo"
   ]
  },
  {
   "cell_type": "markdown",
   "metadata": {},
   "source": [
    "PREDIÇÃO 1"
   ]
  },
  {
   "cell_type": "markdown",
   "metadata": {},
   "source": [
    "* Divisão dos dados de Treinamento e Teste:"
   ]
  },
  {
   "cell_type": "code",
   "execution_count": 257,
   "metadata": {},
   "outputs": [],
   "source": [
    "X_train, X_test, y_train, y_test = train_test_split(X, y, test_size=0.2, random_state=42)"
   ]
  },
  {
   "cell_type": "code",
   "execution_count": 258,
   "metadata": {},
   "outputs": [],
   "source": [
    "X_train_transformed = preprocessor.fit_transform(X_train)\n",
    "X_test_transformed = preprocessor.transform(X_test)"
   ]
  },
  {
   "cell_type": "code",
   "execution_count": 259,
   "metadata": {},
   "outputs": [
    {
     "name": "stdout",
     "output_type": "stream",
     "text": [
      "Shape of X_train_transformed: (19557, 15)\n",
      "Shape of X_test_transformed: (4890, 15)\n"
     ]
    }
   ],
   "source": [
    "print(\"Shape of X_train_transformed:\", X_train_transformed.shape)\n",
    "print(\"Shape of X_test_transformed:\", X_test_transformed.shape)"
   ]
  },
  {
   "cell_type": "code",
   "execution_count": 260,
   "metadata": {},
   "outputs": [],
   "source": [
    "trained_models = {}\n",
    "for model in modelos:\n",
    "    model_name = type(model).__name__\n",
    "    model.fit(X_train_transformed, y_train)\n",
    "    trained_models[model_name] = model"
   ]
  },
  {
   "cell_type": "code",
   "execution_count": 261,
   "metadata": {},
   "outputs": [
    {
     "name": "stdout",
     "output_type": "stream",
     "text": [
      "Predictions for DummyRegressor:\n",
      "[152.58413867 152.58413867 152.58413867 152.58413867 152.58413867]\n",
      "Predictions for LinearRegression:\n",
      "[122.65744643 155.28997332 187.74274766  62.71583056  62.54609433]\n",
      "Predictions for KNeighborsRegressor:\n",
      "[ 87.4  97.  193.8  73.8  65.4]\n"
     ]
    }
   ],
   "source": [
    "predictions = {}\n",
    "for model_name, trained_model in trained_models.items():\n",
    "    y_pred = trained_model.predict(X_test_transformed)\n",
    "    predictions[model_name] = y_pred\n",
    "    print(f\"Predictions for {model_name}:\")\n",
    "    print(y_pred[:5])  "
   ]
  },
  {
   "cell_type": "markdown",
   "metadata": {},
   "source": [
    "PREDIÇÃO 2"
   ]
  },
  {
   "cell_type": "code",
   "execution_count": 262,
   "metadata": {},
   "outputs": [],
   "source": [
    "registro_exemplo = {\n",
    "    'id': 2595,\n",
    "    'nome': 'Skylit Midtown Castle',\n",
    "    'host_id': 2845,\n",
    "    'host_name': 'Jennifer',\n",
    "    'bairro_group': 'Manhattan',\n",
    "    'bairro': 'Midtown',\n",
    "    'latitude': 40.75362,\n",
    "    'longitude': -73.98377,\n",
    "    'room_type': 'Entire home/apt',\n",
    "    'minimo_noites': 1,\n",
    "    'numero_de_reviews': 45,\n",
    "    'ultima_review': '2019-05-21',\n",
    "    'reviews_por_mes': 0.38,\n",
    "    'calculado_host_listings_count': 2,\n",
    "    'disponibilidade_365': 355\n",
    "}"
   ]
  },
  {
   "cell_type": "code",
   "execution_count": 263,
   "metadata": {},
   "outputs": [],
   "source": [
    "registro_df = pd.DataFrame([registro_exemplo])"
   ]
  },
  {
   "cell_type": "code",
   "execution_count": 264,
   "metadata": {},
   "outputs": [],
   "source": [
    "registro_transformed = preprocessor.transform(registro_df)"
   ]
  },
  {
   "cell_type": "code",
   "execution_count": 265,
   "metadata": {},
   "outputs": [
    {
     "name": "stdout",
     "output_type": "stream",
     "text": [
      "Predição de preço para DummyRegressor: 152.58\n",
      "Predição de preço para LinearRegression: 276.51\n",
      "Predição de preço para KNeighborsRegressor: 346.20\n"
     ]
    }
   ],
   "source": [
    "for model_name, trained_model in trained_models.items():\n",
    "    y_pred = trained_model.predict(registro_transformed)\n",
    "    print(f\"Predição de preço para {model_name}: {y_pred[0]:.2f}\")"
   ]
  }
 ],
 "metadata": {
  "kernelspec": {
   "display_name": "Python 3",
   "language": "python",
   "name": "python3"
  },
  "language_info": {
   "codemirror_mode": {
    "name": "ipython",
    "version": 3
   },
   "file_extension": ".py",
   "mimetype": "text/x-python",
   "name": "python",
   "nbconvert_exporter": "python",
   "pygments_lexer": "ipython3",
   "version": "3.12.1"
  }
 },
 "nbformat": 4,
 "nbformat_minor": 2
}
